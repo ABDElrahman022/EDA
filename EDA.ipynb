{
 "cells": [
  {
   "cell_type": "markdown",
   "id": "10252d4e",
   "metadata": {},
   "source": [
    "# 1/ Libraries Importing & Read data"
   ]
  },
  {
   "cell_type": "code",
   "execution_count": 1,
   "id": "0cabc2f7",
   "metadata": {},
   "outputs": [],
   "source": [
    "import pandas as pd\n",
    "import numpy as np\n",
    "import matplotlib.pyplot as plt\n",
    "%matplotlib inline\n",
    "import seaborn as sns"
   ]
  },
  {
   "cell_type": "code",
   "execution_count": 2,
   "id": "571de737",
   "metadata": {},
   "outputs": [],
   "source": [
    "df = pd.read_csv('International_Report_Departures.csv')"
   ]
  },
  {
   "cell_type": "code",
   "execution_count": null,
   "id": "944815ac",
   "metadata": {},
   "outputs": [],
   "source": []
  },
  {
   "cell_type": "markdown",
   "id": "7451b0e7",
   "metadata": {},
   "source": [
    "# 2/ Data Understanding"
   ]
  },
  {
   "cell_type": "markdown",
   "id": "8b465829",
   "metadata": {},
   "source": [
    "#### Check the content of the DataFrame"
   ]
  },
  {
   "cell_type": "code",
   "execution_count": 3,
   "id": "49824553",
   "metadata": {},
   "outputs": [
    {
     "data": {
      "text/html": [
       "<div>\n",
       "<style scoped>\n",
       "    .dataframe tbody tr th:only-of-type {\n",
       "        vertical-align: middle;\n",
       "    }\n",
       "\n",
       "    .dataframe tbody tr th {\n",
       "        vertical-align: top;\n",
       "    }\n",
       "\n",
       "    .dataframe thead th {\n",
       "        text-align: right;\n",
       "    }\n",
       "</style>\n",
       "<table border=\"1\" class=\"dataframe\">\n",
       "  <thead>\n",
       "    <tr style=\"text-align: right;\">\n",
       "      <th></th>\n",
       "      <th>data_dte</th>\n",
       "      <th>Year</th>\n",
       "      <th>Month</th>\n",
       "      <th>usg_apt_id</th>\n",
       "      <th>usg_apt</th>\n",
       "      <th>usg_wac</th>\n",
       "      <th>fg_apt_id</th>\n",
       "      <th>fg_apt</th>\n",
       "      <th>fg_wac</th>\n",
       "      <th>airlineid</th>\n",
       "      <th>carrier</th>\n",
       "      <th>carriergroup</th>\n",
       "      <th>type</th>\n",
       "      <th>Scheduled</th>\n",
       "      <th>Charter</th>\n",
       "      <th>Total</th>\n",
       "    </tr>\n",
       "  </thead>\n",
       "  <tbody>\n",
       "    <tr>\n",
       "      <th>0</th>\n",
       "      <td>05/01/2006</td>\n",
       "      <td>2006</td>\n",
       "      <td>5</td>\n",
       "      <td>12016</td>\n",
       "      <td>GUM</td>\n",
       "      <td>5</td>\n",
       "      <td>13162</td>\n",
       "      <td>MAJ</td>\n",
       "      <td>844</td>\n",
       "      <td>20177</td>\n",
       "      <td>PFQ</td>\n",
       "      <td>1</td>\n",
       "      <td>Departures</td>\n",
       "      <td>0</td>\n",
       "      <td>10</td>\n",
       "      <td>10</td>\n",
       "    </tr>\n",
       "    <tr>\n",
       "      <th>1</th>\n",
       "      <td>05/01/2003</td>\n",
       "      <td>2003</td>\n",
       "      <td>5</td>\n",
       "      <td>10299</td>\n",
       "      <td>ANC</td>\n",
       "      <td>1</td>\n",
       "      <td>13856</td>\n",
       "      <td>OKO</td>\n",
       "      <td>736</td>\n",
       "      <td>20007</td>\n",
       "      <td>5Y</td>\n",
       "      <td>1</td>\n",
       "      <td>Departures</td>\n",
       "      <td>0</td>\n",
       "      <td>15</td>\n",
       "      <td>15</td>\n",
       "    </tr>\n",
       "    <tr>\n",
       "      <th>2</th>\n",
       "      <td>03/01/2007</td>\n",
       "      <td>2007</td>\n",
       "      <td>3</td>\n",
       "      <td>10721</td>\n",
       "      <td>BOS</td>\n",
       "      <td>13</td>\n",
       "      <td>12651</td>\n",
       "      <td>KEF</td>\n",
       "      <td>439</td>\n",
       "      <td>20402</td>\n",
       "      <td>GL</td>\n",
       "      <td>1</td>\n",
       "      <td>Departures</td>\n",
       "      <td>0</td>\n",
       "      <td>1</td>\n",
       "      <td>1</td>\n",
       "    </tr>\n",
       "    <tr>\n",
       "      <th>3</th>\n",
       "      <td>12/01/2004</td>\n",
       "      <td>2004</td>\n",
       "      <td>12</td>\n",
       "      <td>11259</td>\n",
       "      <td>DAL</td>\n",
       "      <td>74</td>\n",
       "      <td>16271</td>\n",
       "      <td>YYZ</td>\n",
       "      <td>936</td>\n",
       "      <td>20201</td>\n",
       "      <td>AMQ</td>\n",
       "      <td>1</td>\n",
       "      <td>Departures</td>\n",
       "      <td>0</td>\n",
       "      <td>1</td>\n",
       "      <td>1</td>\n",
       "    </tr>\n",
       "    <tr>\n",
       "      <th>4</th>\n",
       "      <td>05/01/2009</td>\n",
       "      <td>2009</td>\n",
       "      <td>5</td>\n",
       "      <td>13303</td>\n",
       "      <td>MIA</td>\n",
       "      <td>33</td>\n",
       "      <td>11075</td>\n",
       "      <td>CMW</td>\n",
       "      <td>219</td>\n",
       "      <td>21323</td>\n",
       "      <td>5L</td>\n",
       "      <td>0</td>\n",
       "      <td>Departures</td>\n",
       "      <td>0</td>\n",
       "      <td>20</td>\n",
       "      <td>20</td>\n",
       "    </tr>\n",
       "  </tbody>\n",
       "</table>\n",
       "</div>"
      ],
      "text/plain": [
       "     data_dte  Year  Month  usg_apt_id usg_apt  usg_wac  fg_apt_id fg_apt  \\\n",
       "0  05/01/2006  2006      5       12016     GUM        5      13162    MAJ   \n",
       "1  05/01/2003  2003      5       10299     ANC        1      13856    OKO   \n",
       "2  03/01/2007  2007      3       10721     BOS       13      12651    KEF   \n",
       "3  12/01/2004  2004     12       11259     DAL       74      16271    YYZ   \n",
       "4  05/01/2009  2009      5       13303     MIA       33      11075    CMW   \n",
       "\n",
       "   fg_wac  airlineid carrier  carriergroup        type  Scheduled  Charter  \\\n",
       "0     844      20177     PFQ             1  Departures          0       10   \n",
       "1     736      20007      5Y             1  Departures          0       15   \n",
       "2     439      20402      GL             1  Departures          0        1   \n",
       "3     936      20201     AMQ             1  Departures          0        1   \n",
       "4     219      21323      5L             0  Departures          0       20   \n",
       "\n",
       "   Total  \n",
       "0     10  \n",
       "1     15  \n",
       "2      1  \n",
       "3      1  \n",
       "4     20  "
      ]
     },
     "execution_count": 3,
     "metadata": {},
     "output_type": "execute_result"
    }
   ],
   "source": [
    "df.head()"
   ]
  },
  {
   "cell_type": "markdown",
   "id": "c8dda75c",
   "metadata": {},
   "source": [
    "#### Numbers of rows and columns and dtype of their"
   ]
  },
  {
   "cell_type": "code",
   "execution_count": 4,
   "id": "43dee8c1",
   "metadata": {},
   "outputs": [
    {
     "name": "stdout",
     "output_type": "stream",
     "text": [
      "<class 'pandas.core.frame.DataFrame'>\n",
      "RangeIndex: 930808 entries, 0 to 930807\n",
      "Data columns (total 16 columns):\n",
      " #   Column        Non-Null Count   Dtype \n",
      "---  ------        --------------   ----- \n",
      " 0   data_dte      930808 non-null  object\n",
      " 1   Year          930808 non-null  int64 \n",
      " 2   Month         930808 non-null  int64 \n",
      " 3   usg_apt_id    930808 non-null  int64 \n",
      " 4   usg_apt       930808 non-null  object\n",
      " 5   usg_wac       930808 non-null  int64 \n",
      " 6   fg_apt_id     930808 non-null  int64 \n",
      " 7   fg_apt        930808 non-null  object\n",
      " 8   fg_wac        930808 non-null  int64 \n",
      " 9   airlineid     930808 non-null  int64 \n",
      " 10  carrier       927753 non-null  object\n",
      " 11  carriergroup  930808 non-null  int64 \n",
      " 12  type          930808 non-null  object\n",
      " 13  Scheduled     930808 non-null  int64 \n",
      " 14  Charter       930808 non-null  int64 \n",
      " 15  Total         930808 non-null  int64 \n",
      "dtypes: int64(11), object(5)\n",
      "memory usage: 113.6+ MB\n"
     ]
    }
   ],
   "source": [
    "df.info()"
   ]
  },
  {
   "cell_type": "markdown",
   "id": "b3ccefcc",
   "metadata": {},
   "source": []
  },
  {
   "cell_type": "markdown",
   "id": "e83e30da",
   "metadata": {},
   "source": [
    "# 3/Data Wrangling (Cleaning & Manipulation)"
   ]
  },
  {
   "cell_type": "markdown",
   "id": "139af278",
   "metadata": {},
   "source": [
    "#### Are there any missing / duplicated data?"
   ]
  },
  {
   "cell_type": "code",
   "execution_count": 5,
   "id": "d6f6226a",
   "metadata": {},
   "outputs": [
    {
     "data": {
      "text/plain": [
       "data_dte           0\n",
       "Year               0\n",
       "Month              0\n",
       "usg_apt_id         0\n",
       "usg_apt            0\n",
       "usg_wac            0\n",
       "fg_apt_id          0\n",
       "fg_apt             0\n",
       "fg_wac             0\n",
       "airlineid          0\n",
       "carrier         3055\n",
       "carriergroup       0\n",
       "type               0\n",
       "Scheduled          0\n",
       "Charter            0\n",
       "Total              0\n",
       "dtype: int64"
      ]
     },
     "execution_count": 5,
     "metadata": {},
     "output_type": "execute_result"
    }
   ],
   "source": [
    "df.isna().sum()"
   ]
  },
  {
   "cell_type": "code",
   "execution_count": 6,
   "id": "12e8a192",
   "metadata": {
    "scrolled": true
   },
   "outputs": [
    {
     "data": {
      "text/plain": [
       "0"
      ]
     },
     "execution_count": 6,
     "metadata": {},
     "output_type": "execute_result"
    }
   ],
   "source": [
    "df.duplicated().sum()"
   ]
  },
  {
   "cell_type": "markdown",
   "id": "97eb05ef",
   "metadata": {},
   "source": [
    "#### drop type"
   ]
  },
  {
   "cell_type": "code",
   "execution_count": 7,
   "id": "1dc31aca",
   "metadata": {},
   "outputs": [],
   "source": [
    "df.drop('type', axis=1, inplace=True)"
   ]
  },
  {
   "cell_type": "markdown",
   "id": "a6f01956",
   "metadata": {},
   "source": [
    "#### Clear null value"
   ]
  },
  {
   "cell_type": "code",
   "execution_count": 8,
   "id": "7846f61b",
   "metadata": {},
   "outputs": [
    {
     "data": {
      "text/plain": [
       "data_dte        0\n",
       "Year            0\n",
       "Month           0\n",
       "usg_apt_id      0\n",
       "usg_apt         0\n",
       "usg_wac         0\n",
       "fg_apt_id       0\n",
       "fg_apt          0\n",
       "fg_wac          0\n",
       "airlineid       0\n",
       "carrier         0\n",
       "carriergroup    0\n",
       "Scheduled       0\n",
       "Charter         0\n",
       "Total           0\n",
       "dtype: int64"
      ]
     },
     "execution_count": 8,
     "metadata": {},
     "output_type": "execute_result"
    }
   ],
   "source": [
    "df = df.dropna()\n",
    "df.isna().sum()"
   ]
  },
  {
   "cell_type": "markdown",
   "id": "99b5cbdc",
   "metadata": {},
   "source": [
    "# 4/Data Analysis & Visualization"
   ]
  },
  {
   "cell_type": "code",
   "execution_count": 9,
   "id": "5311f71c",
   "metadata": {},
   "outputs": [
    {
     "data": {
      "text/html": [
       "<div>\n",
       "<style scoped>\n",
       "    .dataframe tbody tr th:only-of-type {\n",
       "        vertical-align: middle;\n",
       "    }\n",
       "\n",
       "    .dataframe tbody tr th {\n",
       "        vertical-align: top;\n",
       "    }\n",
       "\n",
       "    .dataframe thead th {\n",
       "        text-align: right;\n",
       "    }\n",
       "</style>\n",
       "<table border=\"1\" class=\"dataframe\">\n",
       "  <thead>\n",
       "    <tr style=\"text-align: right;\">\n",
       "      <th></th>\n",
       "      <th>data_dte</th>\n",
       "      <th>Year</th>\n",
       "      <th>Month</th>\n",
       "      <th>usg_apt_id</th>\n",
       "      <th>usg_apt</th>\n",
       "      <th>usg_wac</th>\n",
       "      <th>fg_apt_id</th>\n",
       "      <th>fg_apt</th>\n",
       "      <th>fg_wac</th>\n",
       "      <th>airlineid</th>\n",
       "      <th>carrier</th>\n",
       "      <th>carriergroup</th>\n",
       "      <th>Scheduled</th>\n",
       "      <th>Charter</th>\n",
       "      <th>Total</th>\n",
       "    </tr>\n",
       "  </thead>\n",
       "  <tbody>\n",
       "    <tr>\n",
       "      <th>0</th>\n",
       "      <td>05/01/2006</td>\n",
       "      <td>2006</td>\n",
       "      <td>5</td>\n",
       "      <td>12016</td>\n",
       "      <td>GUM</td>\n",
       "      <td>5</td>\n",
       "      <td>13162</td>\n",
       "      <td>MAJ</td>\n",
       "      <td>844</td>\n",
       "      <td>20177</td>\n",
       "      <td>PFQ</td>\n",
       "      <td>1</td>\n",
       "      <td>0</td>\n",
       "      <td>10</td>\n",
       "      <td>10</td>\n",
       "    </tr>\n",
       "    <tr>\n",
       "      <th>1</th>\n",
       "      <td>05/01/2003</td>\n",
       "      <td>2003</td>\n",
       "      <td>5</td>\n",
       "      <td>10299</td>\n",
       "      <td>ANC</td>\n",
       "      <td>1</td>\n",
       "      <td>13856</td>\n",
       "      <td>OKO</td>\n",
       "      <td>736</td>\n",
       "      <td>20007</td>\n",
       "      <td>5Y</td>\n",
       "      <td>1</td>\n",
       "      <td>0</td>\n",
       "      <td>15</td>\n",
       "      <td>15</td>\n",
       "    </tr>\n",
       "    <tr>\n",
       "      <th>2</th>\n",
       "      <td>03/01/2007</td>\n",
       "      <td>2007</td>\n",
       "      <td>3</td>\n",
       "      <td>10721</td>\n",
       "      <td>BOS</td>\n",
       "      <td>13</td>\n",
       "      <td>12651</td>\n",
       "      <td>KEF</td>\n",
       "      <td>439</td>\n",
       "      <td>20402</td>\n",
       "      <td>GL</td>\n",
       "      <td>1</td>\n",
       "      <td>0</td>\n",
       "      <td>1</td>\n",
       "      <td>1</td>\n",
       "    </tr>\n",
       "    <tr>\n",
       "      <th>3</th>\n",
       "      <td>12/01/2004</td>\n",
       "      <td>2004</td>\n",
       "      <td>12</td>\n",
       "      <td>11259</td>\n",
       "      <td>DAL</td>\n",
       "      <td>74</td>\n",
       "      <td>16271</td>\n",
       "      <td>YYZ</td>\n",
       "      <td>936</td>\n",
       "      <td>20201</td>\n",
       "      <td>AMQ</td>\n",
       "      <td>1</td>\n",
       "      <td>0</td>\n",
       "      <td>1</td>\n",
       "      <td>1</td>\n",
       "    </tr>\n",
       "    <tr>\n",
       "      <th>4</th>\n",
       "      <td>05/01/2009</td>\n",
       "      <td>2009</td>\n",
       "      <td>5</td>\n",
       "      <td>13303</td>\n",
       "      <td>MIA</td>\n",
       "      <td>33</td>\n",
       "      <td>11075</td>\n",
       "      <td>CMW</td>\n",
       "      <td>219</td>\n",
       "      <td>21323</td>\n",
       "      <td>5L</td>\n",
       "      <td>0</td>\n",
       "      <td>0</td>\n",
       "      <td>20</td>\n",
       "      <td>20</td>\n",
       "    </tr>\n",
       "  </tbody>\n",
       "</table>\n",
       "</div>"
      ],
      "text/plain": [
       "     data_dte  Year  Month  usg_apt_id usg_apt  usg_wac  fg_apt_id fg_apt  \\\n",
       "0  05/01/2006  2006      5       12016     GUM        5      13162    MAJ   \n",
       "1  05/01/2003  2003      5       10299     ANC        1      13856    OKO   \n",
       "2  03/01/2007  2007      3       10721     BOS       13      12651    KEF   \n",
       "3  12/01/2004  2004     12       11259     DAL       74      16271    YYZ   \n",
       "4  05/01/2009  2009      5       13303     MIA       33      11075    CMW   \n",
       "\n",
       "   fg_wac  airlineid carrier  carriergroup  Scheduled  Charter  Total  \n",
       "0     844      20177     PFQ             1          0       10     10  \n",
       "1     736      20007      5Y             1          0       15     15  \n",
       "2     439      20402      GL             1          0        1      1  \n",
       "3     936      20201     AMQ             1          0        1      1  \n",
       "4     219      21323      5L             0          0       20     20  "
      ]
     },
     "execution_count": 9,
     "metadata": {},
     "output_type": "execute_result"
    }
   ],
   "source": [
    "df.head()"
   ]
  },
  {
   "cell_type": "markdown",
   "id": "62a260ae",
   "metadata": {},
   "source": [
    "#### 3 most common carrier"
   ]
  },
  {
   "cell_type": "code",
   "execution_count": 10,
   "id": "c91ac23e",
   "metadata": {},
   "outputs": [
    {
     "data": {
      "text/plain": [
       "AA    58739\n",
       "DL    48520\n",
       "UA    42469\n",
       "Name: carrier, dtype: int64"
      ]
     },
     "execution_count": 10,
     "metadata": {},
     "output_type": "execute_result"
    }
   ],
   "source": [
    "df['carrier'].value_counts().head(3)"
   ]
  },
  {
   "cell_type": "markdown",
   "id": "4464dda7",
   "metadata": {},
   "source": [
    "#### 3 most common Month and least"
   ]
  },
  {
   "cell_type": "code",
   "execution_count": 11,
   "id": "1487300c",
   "metadata": {},
   "outputs": [
    {
     "data": {
      "text/plain": [
       "3    83542\n",
       "1    80975\n",
       "2    79357\n",
       "Name: Month, dtype: int64"
      ]
     },
     "execution_count": 11,
     "metadata": {},
     "output_type": "execute_result"
    }
   ],
   "source": [
    "df['Month'].value_counts().head(3)"
   ]
  },
  {
   "cell_type": "code",
   "execution_count": 12,
   "id": "ba6c0aa8",
   "metadata": {},
   "outputs": [
    {
     "data": {
      "text/plain": [
       "11    73740\n",
       "10    73215\n",
       "9     73028\n",
       "Name: Month, dtype: int64"
      ]
     },
     "execution_count": 12,
     "metadata": {},
     "output_type": "execute_result"
    }
   ],
   "source": [
    "df['Month'].value_counts().tail(3)"
   ]
  },
  {
   "cell_type": "markdown",
   "id": "59d0fe10",
   "metadata": {},
   "source": [
    "#### 3 most common Year and least"
   ]
  },
  {
   "cell_type": "code",
   "execution_count": 13,
   "id": "742db025",
   "metadata": {},
   "outputs": [
    {
     "data": {
      "text/plain": [
       "2018    39926\n",
       "2017    38993\n",
       "2019    38589\n",
       "Name: Year, dtype: int64"
      ]
     },
     "execution_count": 13,
     "metadata": {},
     "output_type": "execute_result"
    }
   ],
   "source": [
    "df['Year'].value_counts().head(3)"
   ]
  },
  {
   "cell_type": "code",
   "execution_count": 14,
   "id": "66a8ec7a",
   "metadata": {},
   "outputs": [
    {
     "data": {
      "text/plain": [
       "1990    20586\n",
       "1991    20552\n",
       "2020     9650\n",
       "Name: Year, dtype: int64"
      ]
     },
     "execution_count": 14,
     "metadata": {},
     "output_type": "execute_result"
    }
   ],
   "source": [
    "df['Year'].value_counts().tail(3)"
   ]
  },
  {
   "cell_type": "markdown",
   "id": "0fc706bb",
   "metadata": {},
   "source": [
    "#### 3 most common usg_apt_id"
   ]
  },
  {
   "cell_type": "code",
   "execution_count": 15,
   "id": "82875ebc",
   "metadata": {},
   "outputs": [
    {
     "data": {
      "text/plain": [
       "13303    133729\n",
       "12478     78148\n",
       "12892     57485\n",
       "Name: usg_apt_id, dtype: int64"
      ]
     },
     "execution_count": 15,
     "metadata": {},
     "output_type": "execute_result"
    }
   ],
   "source": [
    "df['usg_apt_id'].value_counts().head(3)"
   ]
  },
  {
   "cell_type": "markdown",
   "id": "fb8b0d72",
   "metadata": {},
   "source": [
    "#### 3 most common usg_apt"
   ]
  },
  {
   "cell_type": "code",
   "execution_count": 16,
   "id": "f37f2a3a",
   "metadata": {},
   "outputs": [
    {
     "data": {
      "text/plain": [
       "MIA    133729\n",
       "JFK     78148\n",
       "LAX     57485\n",
       "Name: usg_apt, dtype: int64"
      ]
     },
     "execution_count": 16,
     "metadata": {},
     "output_type": "execute_result"
    }
   ],
   "source": [
    "df['usg_apt'].value_counts().head(3)"
   ]
  },
  {
   "cell_type": "markdown",
   "id": "98253b44",
   "metadata": {},
   "source": [
    "#### 3 most common fg_apt_id"
   ]
  },
  {
   "cell_type": "code",
   "execution_count": 17,
   "id": "03789796",
   "metadata": {},
   "outputs": [
    {
     "data": {
      "text/plain": [
       "16271    50008\n",
       "11032    32110\n",
       "13252    26777\n",
       "Name: fg_apt_id, dtype: int64"
      ]
     },
     "execution_count": 17,
     "metadata": {},
     "output_type": "execute_result"
    }
   ],
   "source": [
    "df['fg_apt_id'].value_counts().head(3)"
   ]
  },
  {
   "cell_type": "markdown",
   "id": "86b2bf17",
   "metadata": {},
   "source": [
    "#### 3 most common fg_apt"
   ]
  },
  {
   "cell_type": "code",
   "execution_count": 18,
   "id": "6eb7969d",
   "metadata": {},
   "outputs": [
    {
     "data": {
      "text/plain": [
       "YYZ    50008\n",
       "CUN    32110\n",
       "MEX    26777\n",
       "Name: fg_apt, dtype: int64"
      ]
     },
     "execution_count": 18,
     "metadata": {},
     "output_type": "execute_result"
    }
   ],
   "source": [
    "df['fg_apt'].value_counts().head(3)"
   ]
  },
  {
   "cell_type": "markdown",
   "id": "f00f4a21",
   "metadata": {},
   "source": [
    "## Visualization"
   ]
  },
  {
   "cell_type": "code",
   "execution_count": 19,
   "id": "f5234ded",
   "metadata": {},
   "outputs": [
    {
     "data": {
      "text/plain": [
       "<AxesSubplot:>"
      ]
     },
     "execution_count": 19,
     "metadata": {},
     "output_type": "execute_result"
    },
    {
     "data": {
      "image/png": "[encoded data removed]",
      "text/plain": [
       "<Figure size 640x480 with 2 Axes>"
      ]
     },
     "metadata": {},
     "output_type": "display_data"
    }
   ],
   "source": [
    "sns.heatmap(df.corr())"
   ]
  },
  {
   "cell_type": "code",
   "execution_count": 20,
   "id": "3f7b6bc5",
   "metadata": {
    "scrolled": true
   },
   "outputs": [
    {
     "data": {
      "image/png": "[encoded data removed]",
      "text/plain": [
       "<Figure size 3000x800 with 1 Axes>"
      ]
     },
     "metadata": {},
     "output_type": "display_data"
    }
   ],
   "source": [
    "plt.figure(figsize=(30,8))\n",
    "sns.countplot(x=df['Year'])\n",
    "plt.grid()\n",
    "plt.title('Distribution of Years',fontsize=40)\n",
    "plt.xticks(rotation=90 )\n",
    "plt.rcParams.update({'font.size': 16})\n",
    "plt.show()"
   ]
  },
  {
   "cell_type": "code",
   "execution_count": 21,
   "id": "d83d52c9",
   "metadata": {},
   "outputs": [
    {
     "data": {
      "image/png": "[encoded data removed]",
      "text/plain": [
       "<Figure size 3000x800 with 1 Axes>"
      ]
     },
     "metadata": {},
     "output_type": "display_data"
    }
   ],
   "source": [
    "plt.figure(figsize=(30,8))\n",
    "sns.countplot(x=df['Month'])\n",
    "plt.grid()\n",
    "plt.title('Distribution of Months',fontsize=40)\n",
    "plt.rcParams.update({'font.size': 16})\n",
    "plt.show()"
   ]
  },
  {
   "cell_type": "code",
   "execution_count": 22,
   "id": "3408200c",
   "metadata": {},
   "outputs": [],
   "source": [
    "df_Y_M = df.groupby(['Year','Month'])['Total'].sum().reset_index()"
   ]
  },
  {
   "cell_type": "code",
   "execution_count": 23,
   "id": "2674e983",
   "metadata": {},
   "outputs": [
    {
     "data": {
      "text/html": [
       "<div>\n",
       "<style scoped>\n",
       "    .dataframe tbody tr th:only-of-type {\n",
       "        vertical-align: middle;\n",
       "    }\n",
       "\n",
       "    .dataframe tbody tr th {\n",
       "        vertical-align: top;\n",
       "    }\n",
       "\n",
       "    .dataframe thead th {\n",
       "        text-align: right;\n",
       "    }\n",
       "</style>\n",
       "<table border=\"1\" class=\"dataframe\">\n",
       "  <thead>\n",
       "    <tr style=\"text-align: right;\">\n",
       "      <th></th>\n",
       "      <th>Year</th>\n",
       "      <th>Month</th>\n",
       "      <th>Total</th>\n",
       "    </tr>\n",
       "  </thead>\n",
       "  <tbody>\n",
       "    <tr>\n",
       "      <th>0</th>\n",
       "      <td>1990</td>\n",
       "      <td>1</td>\n",
       "      <td>54129</td>\n",
       "    </tr>\n",
       "    <tr>\n",
       "      <th>1</th>\n",
       "      <td>1990</td>\n",
       "      <td>2</td>\n",
       "      <td>49391</td>\n",
       "    </tr>\n",
       "    <tr>\n",
       "      <th>2</th>\n",
       "      <td>1990</td>\n",
       "      <td>3</td>\n",
       "      <td>58542</td>\n",
       "    </tr>\n",
       "    <tr>\n",
       "      <th>3</th>\n",
       "      <td>1990</td>\n",
       "      <td>4</td>\n",
       "      <td>54195</td>\n",
       "    </tr>\n",
       "    <tr>\n",
       "      <th>4</th>\n",
       "      <td>1990</td>\n",
       "      <td>5</td>\n",
       "      <td>54863</td>\n",
       "    </tr>\n",
       "    <tr>\n",
       "      <th>...</th>\n",
       "      <td>...</td>\n",
       "      <td>...</td>\n",
       "      <td>...</td>\n",
       "    </tr>\n",
       "    <tr>\n",
       "      <th>358</th>\n",
       "      <td>2019</td>\n",
       "      <td>11</td>\n",
       "      <td>137130</td>\n",
       "    </tr>\n",
       "    <tr>\n",
       "      <th>359</th>\n",
       "      <td>2019</td>\n",
       "      <td>12</td>\n",
       "      <td>145140</td>\n",
       "    </tr>\n",
       "    <tr>\n",
       "      <th>360</th>\n",
       "      <td>2020</td>\n",
       "      <td>1</td>\n",
       "      <td>141636</td>\n",
       "    </tr>\n",
       "    <tr>\n",
       "      <th>361</th>\n",
       "      <td>2020</td>\n",
       "      <td>2</td>\n",
       "      <td>126629</td>\n",
       "    </tr>\n",
       "    <tr>\n",
       "      <th>362</th>\n",
       "      <td>2020</td>\n",
       "      <td>3</td>\n",
       "      <td>101676</td>\n",
       "    </tr>\n",
       "  </tbody>\n",
       "</table>\n",
       "<p>363 rows × 3 columns</p>\n",
       "</div>"
      ],
      "text/plain": [
       "     Year  Month   Total\n",
       "0    1990      1   54129\n",
       "1    1990      2   49391\n",
       "2    1990      3   58542\n",
       "3    1990      4   54195\n",
       "4    1990      5   54863\n",
       "..    ...    ...     ...\n",
       "358  2019     11  137130\n",
       "359  2019     12  145140\n",
       "360  2020      1  141636\n",
       "361  2020      2  126629\n",
       "362  2020      3  101676\n",
       "\n",
       "[363 rows x 3 columns]"
      ]
     },
     "execution_count": 23,
     "metadata": {},
     "output_type": "execute_result"
    }
   ],
   "source": [
    "df_Y_M"
   ]
  },
  {
   "cell_type": "code",
   "execution_count": null,
   "id": "538e138c",
   "metadata": {},
   "outputs": [],
   "source": [
    "plt.figure(figsize=(20,10))\n",
    "sns.scatterplot(data=df_Y_M, x=\"Month\", y=\"Year\", hue=\"Total\")\n",
    "plt.xticks(df_Y_M['Month'])\n",
    "plt.yticks(df_Y_M['Year'])\n",
    "plt.title('Total flight for each month of the year')\n",
    "plt.show()"
   ]
  },
  {
   "cell_type": "code",
   "execution_count": null,
   "id": "ae94a3d5",
   "metadata": {},
   "outputs": [],
   "source": [
    "df.head()"
   ]
  },
  {
   "cell_type": "code",
   "execution_count": null,
   "id": "a27bd2bd",
   "metadata": {},
   "outputs": [],
   "source": [
    "plt.figure(figsize=(20, 6))\n",
    "sns.lineplot(x='Year', y='Total', data=df, hue='carriergroup')\n",
    "plt.xticks(df['Year'],rotation=90)\n",
    "plt.show()"
   ]
  }
 ],
 "metadata": {
  "kernelspec": {
   "display_name": "Python 3 (ipykernel)",
   "language": "python",
   "name": "python3"
  },
  "language_info": {
   "codemirror_mode": {
    "name": "ipython",
    "version": 3
   },
   "file_extension": ".py",
   "mimetype": "text/x-python",
   "name": "python",
   "nbconvert_exporter": "python",
   "pygments_lexer": "ipython3",
   "version": "3.9.13"
  }
 },
 "nbformat": 4,
 "nbformat_minor": 5
}
